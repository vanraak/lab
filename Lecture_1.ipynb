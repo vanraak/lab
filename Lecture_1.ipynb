{
  "cells": [
    {
      "cell_type": "code",
      "execution_count": null,
      "metadata": {
        "colab": {
          "base_uri": "https://localhost:8080/"
        },
        "id": "UUjdTCrZtvuK",
        "outputId": "65e33c44-7d57-4978-c334-9e275dd7f94b"
      },
      "outputs": [],
      "source": [
        "print(\"Welcome to the Business Lab\")"
      ]
    },
    {
      "cell_type": "code",
      "execution_count": null,
      "metadata": {
        "colab": {
          "base_uri": "https://localhost:8080/"
        },
        "id": "asBmQA3h49ml",
        "outputId": "24209aa0-9ac7-44bd-ee81-be490029a42c"
      },
      "outputs": [],
      "source": [
        "8+2"
      ]
    },
    {
      "cell_type": "code",
      "execution_count": null,
      "metadata": {
        "colab": {
          "base_uri": "https://localhost:8080/"
        },
        "id": "QK7mycNE4-_7",
        "outputId": "06b0fcaa-43b3-4e09-a4db-da4b6e720091"
      },
      "outputs": [],
      "source": [
        "9-4"
      ]
    },
    {
      "cell_type": "code",
      "execution_count": null,
      "metadata": {
        "colab": {
          "base_uri": "https://localhost:8080/"
        },
        "id": "ZWhgXxag7yBI",
        "outputId": "d8dfeeb4-b7dc-4a94-d6a9-f4edfda2bc00"
      },
      "outputs": [],
      "source": [
        "7*3"
      ]
    },
    {
      "cell_type": "code",
      "execution_count": null,
      "metadata": {
        "colab": {
          "base_uri": "https://localhost:8080/"
        },
        "id": "IIPUTsjT8fmO",
        "outputId": "caa5c09b-8d01-46f8-93ec-391043a516a5"
      },
      "outputs": [],
      "source": [
        "9/2"
      ]
    },
    {
      "cell_type": "code",
      "execution_count": null,
      "metadata": {
        "colab": {
          "base_uri": "https://localhost:8080/"
        },
        "id": "isy2gAht8lOP",
        "outputId": "05badb37-6a0e-47d6-a72c-4db275be8cfe"
      },
      "outputs": [],
      "source": [
        "9//2"
      ]
    },
    {
      "cell_type": "markdown",
      "metadata": {},
      "source": [
        "## Variables:"
      ]
    },
    {
      "cell_type": "code",
      "execution_count": null,
      "metadata": {
        "id": "nXPu27Rz9SOC"
      },
      "outputs": [],
      "source": [
        "a=9//2"
      ]
    },
    {
      "cell_type": "code",
      "execution_count": null,
      "metadata": {
        "colab": {
          "base_uri": "https://localhost:8080/"
        },
        "id": "GvHqmeHz9pAC",
        "outputId": "ddec51cc-19ef-4960-9bde-6c4b1973a57e"
      },
      "outputs": [],
      "source": [
        "type(a)"
      ]
    },
    {
      "cell_type": "code",
      "execution_count": null,
      "metadata": {
        "colab": {
          "base_uri": "https://localhost:8080/"
        },
        "id": "_Rl82YXc9p9R",
        "outputId": "ffb1db68-8a91-4edf-9c4c-47e14e0caeab"
      },
      "outputs": [],
      "source": [
        "4**3"
      ]
    },
    {
      "cell_type": "code",
      "execution_count": null,
      "metadata": {
        "id": "Tp7x83IQOf0D"
      },
      "outputs": [],
      "source": [
        "a=11\n",
        "b=4"
      ]
    },
    {
      "cell_type": "code",
      "execution_count": null,
      "metadata": {
        "id": "sKIDgk2kPaQL"
      },
      "outputs": [],
      "source": [
        "a%=b"
      ]
    },
    {
      "cell_type": "code",
      "execution_count": null,
      "metadata": {
        "colab": {
          "base_uri": "https://localhost:8080/"
        },
        "id": "CRLnmwE-Qzav",
        "outputId": "e6b31531-e8cb-41d2-b2ec-77a5873eb1ec"
      },
      "outputs": [],
      "source": [
        "print(a)"
      ]
    },
    {
      "cell_type": "code",
      "execution_count": null,
      "metadata": {
        "id": "E4kWp1xeWX7v"
      },
      "outputs": [],
      "source": [
        "welcome_msg=\"Welcome to the course\""
      ]
    },
    {
      "cell_type": "code",
      "execution_count": null,
      "metadata": {
        "colab": {
          "base_uri": "https://localhost:8080/"
        },
        "id": "c3rPRvVDWgSZ",
        "outputId": "d6d4aaae-974f-406b-c7d0-3e0bfcaa87a3"
      },
      "outputs": [],
      "source": [
        "type(welcome_msg)"
      ]
    },
    {
      "cell_type": "code",
      "execution_count": null,
      "metadata": {
        "colab": {
          "base_uri": "https://localhost:8080/"
        },
        "id": "BPoIf316WhoV",
        "outputId": "d3d05d34-a463-4346-96cb-8df13ca7fac9"
      },
      "outputs": [],
      "source": [
        "a=\"Welcome to the course\"\n",
        "b=\"!\"\n",
        "print(a+b*3)"
      ]
    },
    {
      "cell_type": "code",
      "execution_count": null,
      "metadata": {
        "colab": {
          "base_uri": "https://localhost:8080/"
        },
        "id": "ECEPuszefYUO",
        "outputId": "92c6b8af-da19-4b16-d7e2-b54e7ae607ab"
      },
      "outputs": [],
      "source": [
        "roa = 0.2\n",
        "ROA = 0.3\n",
        "print(roa)"
      ]
    },
    {
      "cell_type": "markdown",
      "metadata": {
        "id": "3Rq0m3aIpBS4"
      },
      "source": [
        "Variable names cannot start with a number:"
      ]
    },
    {
      "cell_type": "code",
      "execution_count": null,
      "metadata": {
        "colab": {
          "base_uri": "https://localhost:8080/",
          "height": 140
        },
        "id": "2TgW-B8lffTK",
        "outputId": "6cb91c25-0d8b-4e55-9450-ffcfdcb49400"
      },
      "outputs": [],
      "source": [
        "2022_profit = 1200000"
      ]
    },
    {
      "cell_type": "code",
      "execution_count": null,
      "metadata": {
        "colab": {
          "base_uri": "https://localhost:8080/"
        },
        "id": "9zMhIIFQj5Xs",
        "outputId": "142f2c32-d9de-4d7b-fb73-69363e4fbf37"
      },
      "outputs": [],
      "source": [
        "n=1\n",
        "n + 1"
      ]
    },
    {
      "cell_type": "code",
      "execution_count": null,
      "metadata": {
        "id": "DvBz4EW_pjML"
      },
      "outputs": [],
      "source": [
        "n = 10"
      ]
    },
    {
      "cell_type": "code",
      "execution_count": null,
      "metadata": {
        "colab": {
          "base_uri": "https://localhost:8080/"
        },
        "id": "1qOXI9ajpmm_",
        "outputId": "efa7e1fc-8680-4388-8827-c3a888811956"
      },
      "outputs": [],
      "source": [
        "print (n)"
      ]
    },
    {
      "cell_type": "markdown",
      "metadata": {},
      "source": [
        "## User input:"
      ]
    },
    {
      "cell_type": "code",
      "execution_count": null,
      "metadata": {
        "colab": {
          "base_uri": "https://localhost:8080/"
        },
        "id": "k4rc_fSCsYC4",
        "outputId": "fa85db64-f36c-468e-8b00-f497e4001484"
      },
      "outputs": [],
      "source": [
        "username=input()"
      ]
    },
    {
      "cell_type": "code",
      "execution_count": null,
      "metadata": {
        "colab": {
          "base_uri": "https://localhost:8080/"
        },
        "id": "CdKAxaswsk4J",
        "outputId": "c1bd0ea0-dfe4-4e59-bb2f-6fec6bd57997"
      },
      "outputs": [],
      "source": [
        "print(username)"
      ]
    },
    {
      "cell_type": "code",
      "execution_count": null,
      "metadata": {
        "colab": {
          "base_uri": "https://localhost:8080/"
        },
        "id": "bgQ8VUngs2Vc",
        "outputId": "ba1bfe60-f447-4867-d0d4-0b31e4eb4bca"
      },
      "outputs": [],
      "source": [
        "username = input (\"Please enter your username: \")"
      ]
    },
    {
      "cell_type": "code",
      "execution_count": null,
      "metadata": {
        "colab": {
          "base_uri": "https://localhost:8080/"
        },
        "id": "Gah-4-xDs6zB",
        "outputId": "f170e6d2-b7ce-4e04-e141-dcbb8ecb7513"
      },
      "outputs": [],
      "source": [
        "print(username.lower())"
      ]
    },
    {
      "cell_type": "code",
      "execution_count": null,
      "metadata": {
        "colab": {
          "base_uri": "https://localhost:8080/"
        },
        "id": "6VmwkZrBtpMH",
        "outputId": "5a79f9e5-e304-47ba-d69a-942b87be5bc5"
      },
      "outputs": [],
      "source": [
        "print(username.title())"
      ]
    },
    {
      "cell_type": "code",
      "execution_count": null,
      "metadata": {
        "colab": {
          "base_uri": "https://localhost:8080/"
        },
        "id": "VX-jgTwmtrBF",
        "outputId": "280dbb97-3aef-4c4c-fed7-efd2ac8ae35e"
      },
      "outputs": [],
      "source": [
        "print(username.lower().rstrip())"
      ]
    },
    {
      "cell_type": "markdown",
      "metadata": {},
      "source": [
        "## Iteration:"
      ]
    },
    {
      "cell_type": "code",
      "execution_count": null,
      "metadata": {},
      "outputs": [],
      "source": [
        "i=0\n",
        "while i < 10:\n",
        "    print(i)\n",
        "    i+=1"
      ]
    },
    {
      "cell_type": "code",
      "execution_count": null,
      "metadata": {},
      "outputs": [],
      "source": [
        "for i in range (0,10):\n",
        "    print(i)"
      ]
    },
    {
      "cell_type": "code",
      "execution_count": null,
      "metadata": {},
      "outputs": [],
      "source": [
        "word = \"Accounting\"\n",
        "for letter in word:\n",
        "    print(letter)"
      ]
    },
    {
      "cell_type": "code",
      "execution_count": null,
      "metadata": {},
      "outputs": [],
      "source": [
        "sentence = \"Coding is fun\"\n",
        "for word in sentence.split():\n",
        "    print(word)"
      ]
    },
    {
      "cell_type": "code",
      "execution_count": null,
      "metadata": {},
      "outputs": [],
      "source": [
        "while True:\n",
        "    print(\"Hi\")"
      ]
    },
    {
      "cell_type": "markdown",
      "metadata": {},
      "source": [
        "## Conditionals:"
      ]
    },
    {
      "cell_type": "code",
      "execution_count": null,
      "metadata": {},
      "outputs": [],
      "source": [
        "age=int(input(\"How old are you? \"))\n",
        "if age<12:\n",
        "    print(\"15 euro\")\n",
        "elif age<60:\n",
        "    print(\"25 euro\")\n",
        "else:\n",
        "    print(\"20 euro\")"
      ]
    },
    {
      "cell_type": "code",
      "execution_count": null,
      "metadata": {},
      "outputs": [],
      "source": [
        "while True:\n",
        "    direction=input(\"Where would you like to go?\")\n",
        "    if direction==\"stop\":\n",
        "        break\n",
        "    else:\n",
        "        print(f\"We are going {direction}!\")"
      ]
    },
    {
      "cell_type": "markdown",
      "metadata": {},
      "source": [
        "## F-strings:"
      ]
    },
    {
      "cell_type": "code",
      "execution_count": null,
      "metadata": {},
      "outputs": [],
      "source": [
        "currency = \"USD\"\n",
        "exch_rate = 1.0672824\n",
        "print(f\"One euro is currently worth {exch_rate} {currency}.\")"
      ]
    },
    {
      "cell_type": "code",
      "execution_count": null,
      "metadata": {},
      "outputs": [],
      "source": [
        "currency = \"USD\"\n",
        "exch_rate = 1.0672824\n",
        "print(f\"One euro is currently worth {exch_rate:.2f} {currency}.\")"
      ]
    },
    {
      "cell_type": "markdown",
      "metadata": {},
      "source": [
        "## Lists:"
      ]
    },
    {
      "cell_type": "code",
      "execution_count": null,
      "metadata": {},
      "outputs": [],
      "source": [
        "companies=['Ahold Delhaize','asr','Adyen','ASML',\n",
        "'ArcelorMittal','ABN Amro','Aegon']"
      ]
    },
    {
      "cell_type": "markdown",
      "metadata": {},
      "source": [
        "## Dictionaries:"
      ]
    },
    {
      "cell_type": "code",
      "execution_count": null,
      "metadata": {},
      "outputs": [],
      "source": [
        "fav_courses = {'Robin': 'Incentives & Control', 'Charlie': 'IFRS' ,'Alex': 'Auditing',\n",
        "'Jordan': 'Business Lab & Professional Skills', 'Max': 'IFRS'}"
      ]
    },
    {
      "cell_type": "code",
      "execution_count": null,
      "metadata": {},
      "outputs": [],
      "source": [
        "for student,course in fav_courses.items():\n",
        "    print(f\"Out of of all classes, {student.title()} likes {course.title()} the most.\")"
      ]
    },
    {
      "cell_type": "markdown",
      "metadata": {},
      "source": [
        "## Functions:"
      ]
    },
    {
      "cell_type": "code",
      "execution_count": null,
      "metadata": {},
      "outputs": [],
      "source": [
        "def greet(name):\n",
        "    print(f\"Welcome to the Business Lab, {name.title()}!\")\n",
        "    print(\"I hope you will enjoy coding with Python.\\n\")\n",
        "\n",
        "students=['robin','max','jordan','charlie']\n",
        "\n",
        "for student in students:\n",
        "    greet(student)"
      ]
    },
    {
      "cell_type": "code",
      "execution_count": null,
      "metadata": {},
      "outputs": [],
      "source": []
    }
  ],
  "metadata": {
    "colab": {
      "provenance": []
    },
    "kernelspec": {
      "display_name": ".data_analytics",
      "language": "python",
      "name": "python3"
    },
    "language_info": {
      "codemirror_mode": {
        "name": "ipython",
        "version": 3
      },
      "file_extension": ".py",
      "mimetype": "text/x-python",
      "name": "python",
      "nbconvert_exporter": "python",
      "pygments_lexer": "ipython3",
      "version": "3.12.2"
    }
  },
  "nbformat": 4,
  "nbformat_minor": 0
}
