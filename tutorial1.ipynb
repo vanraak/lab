{
 "cells": [
  {
   "cell_type": "markdown",
   "metadata": {},
   "source": [
    "---"
   ]
  },
  {
   "cell_type": "markdown",
   "metadata": {
    "deletable": false,
    "editable": false,
    "nbgrader": {
     "cell_type": "markdown",
     "checksum": "4ccdd559d3d60ed621c4108a9abb4654",
     "grade": false,
     "grade_id": "intro",
     "locked": true,
     "schema_version": 3,
     "solution": false,
     "task": false
    },
    "slideshow": {
     "slide_type": ""
    },
    "tags": []
   },
   "source": [
    "<h2>Welcome to the first tutorial of Business Lab & Professional Skills!</h2>"
   ]
  },
  {
   "cell_type": "markdown",
   "metadata": {},
   "source": [
    "---\n",
    "\n",
    "**Requirements:**\n",
    "\n",
    "- Make sure you fill in any place that says `YOUR CODE HERE` or \"YOUR ANSWER HERE\".\n",
    "- Fill in your name and student id below (inside of the quotation marks):"
   ]
  },
  {
   "cell_type": "code",
   "execution_count": null,
   "metadata": {},
   "outputs": [],
   "source": [
    "NAME = \"\"\n",
    "STUDENT_ID = \"\""
   ]
  },
  {
   "cell_type": "markdown",
   "metadata": {
    "deletable": false,
    "editable": false,
    "nbgrader": {
     "cell_type": "markdown",
     "checksum": "773f1901dcee8e1e8302339052faec04",
     "grade": false,
     "grade_id": "cell-fcf200257ee513cc",
     "locked": true,
     "schema_version": 3,
     "solution": false,
     "task": false
    }
   },
   "source": [
    "---\n",
    "## Exercise 1: Strings, Lists and Loops\n",
    "\n",
    "<b>Exercise 1A:</b> Print 'Hello, world!'"
   ]
  },
  {
   "cell_type": "code",
   "execution_count": null,
   "metadata": {
    "deletable": false,
    "nbgrader": {
     "cell_type": "code",
     "checksum": "51584e917299347914253e3e19fe292e",
     "grade": false,
     "grade_id": "helloworld",
     "locked": false,
     "schema_version": 3,
     "solution": true,
     "task": false
    }
   },
   "outputs": [],
   "source": [
    "# YOUR CODE HERE"
   ]
  },
  {
   "cell_type": "markdown",
   "metadata": {
    "deletable": false,
    "editable": false,
    "nbgrader": {
     "cell_type": "markdown",
     "checksum": "cb8e1c0c1fb090c259c4fe65070515d3",
     "grade": false,
     "grade_id": "cell-61c0e43717941e63",
     "locked": true,
     "schema_version": 3,
     "solution": false,
     "task": false
    }
   },
   "source": [
    "---\n",
    "<b>Exercise 1B:</b> In Python, anything inside quotes is a string. You can use either single quotes `'…'` or double quotes `\"…\"` for your strings.\n",
    "\n",
    "Task: Print the following four sentences exactly as written. Use a separate `print()` statement for each sentence.\n",
    "\n",
    "Sentences:\n",
    "- A key strength of Python lies in its readability and simplicity, as famously stated by Tim Peters: \"Readability counts.\"\n",
    "- Python's versatility and extensive library support make it a robust choice for a wide range of applications, from web development to data analysis.\n",
    "- Guido van Rossum, the creator of Python stated: \"Python is an experiment in how much freedom programmers need.\"\n",
    "- When I asked a friend which foreign language she prefers, she said: \"Python is my favourite language\".\n",
    "\n",
    "Requirements:\n",
    "- Use exactly four `print()` calls. One per sentence.\n",
    "- Preserve punctuation and capitalization exactly as shown.\n",
    "- If a sentence contains double quotes (\"…\"), wrap the string in single quotes '…' OR escape the inner double quotes with `\\\"`.\n",
    "- If a sentence contains single quotes (`…`), wrap the string in double quotes '…' OR escape the inner single quotes with `\\'`.\n",
    "- Do not combine the sentences into one print statement.\n",
    "\n"
   ]
  },
  {
   "cell_type": "code",
   "execution_count": null,
   "metadata": {
    "deletable": false,
    "nbgrader": {
     "cell_type": "code",
     "checksum": "e626cfdffc77e454977548710cae5395",
     "grade": false,
     "grade_id": "cell-0c14f1f1345bd22c",
     "locked": false,
     "schema_version": 3,
     "solution": true,
     "task": false
    }
   },
   "outputs": [],
   "source": [
    "# YOUR CODE HERE"
   ]
  },
  {
   "cell_type": "markdown",
   "metadata": {
    "deletable": false,
    "editable": false,
    "nbgrader": {
     "cell_type": "markdown",
     "checksum": "2750b3ade81675dbc1bf96ddd7959d42",
     "grade": false,
     "grade_id": "cell-d3a31d40d90e73fc",
     "locked": true,
     "schema_version": 3,
     "solution": false,
     "task": false
    }
   },
   "source": [
    "---\n",
    "<b>Exercise 1C:</b> Create a Python list named `friends` that contains the names of four of your friends."
   ]
  },
  {
   "cell_type": "code",
   "execution_count": null,
   "metadata": {
    "deletable": false,
    "nbgrader": {
     "cell_type": "code",
     "checksum": "db4823366600e6c50b60c411fa4f45ed",
     "grade": false,
     "grade_id": "cell-c45d3d6bce1ddf88",
     "locked": false,
     "schema_version": 3,
     "solution": true,
     "task": false
    }
   },
   "outputs": [],
   "source": [
    "# YOUR CODE HERE"
   ]
  },
  {
   "cell_type": "markdown",
   "metadata": {},
   "source": [
    "---\n",
    "<b>Exercise 1D:</b> Using the list of friend names you created earlier, print each name on its own line using a `for` loop."
   ]
  },
  {
   "cell_type": "code",
   "execution_count": null,
   "metadata": {},
   "outputs": [],
   "source": [
    "# YOUR CODE HERE"
   ]
  },
  {
   "cell_type": "markdown",
   "metadata": {
    "deletable": false,
    "editable": false,
    "nbgrader": {
     "cell_type": "markdown",
     "checksum": "c89d23c7bbd3a9e27ddd42903c815c8e",
     "grade": false,
     "grade_id": "cell-be09c70147a32b12",
     "locked": true,
     "schema_version": 3,
     "solution": false,
     "task": false
    }
   },
   "source": [
    "---\n",
    "<b>Exercise 1E:</b> Using your existing list of friend names, print a personalized message to each friend saying they too should learn programming with Python. Use an *f-string*.\n",
    "\n",
    "Guidance:\n",
    "- Put the letter `f` immediately before the opening quote: `f\"...\"` or `f'...'`.\n",
    "- Insert variables or expressions inside curly braces: `{variable}`."
   ]
  },
  {
   "cell_type": "code",
   "execution_count": null,
   "metadata": {},
   "outputs": [],
   "source": [
    "# YOUR CODE HERE"
   ]
  },
  {
   "cell_type": "markdown",
   "metadata": {
    "deletable": false,
    "editable": false,
    "nbgrader": {
     "cell_type": "markdown",
     "checksum": "642748226c0706f2d03c9b6b6029abc8",
     "grade": false,
     "grade_id": "cell-04fcb4f0a626b033",
     "locked": true,
     "schema_version": 3,
     "solution": false,
     "task": false
    }
   },
   "source": [
    "---\n",
    "<b>Exercise 1F:</b> Using the personalized message from Exercise 1E, print a message to each friend where the friend’s name is in UPPERCASE. Keep using an f-string. Use the `.upper()` method on the name inside the f-string, like `{friend.upper()}`."
   ]
  },
  {
   "cell_type": "code",
   "execution_count": null,
   "metadata": {},
   "outputs": [],
   "source": [
    "# YOUR CODE HERE"
   ]
  },
  {
   "cell_type": "markdown",
   "metadata": {
    "deletable": false,
    "editable": false,
    "nbgrader": {
     "cell_type": "markdown",
     "checksum": "f61b4e623c04f8eea0bbfc504481a458",
     "grade": false,
     "grade_id": "cell-c2c3317e4a7b6648",
     "locked": true,
     "schema_version": 3,
     "solution": false,
     "task": false
    }
   },
   "source": [
    "---\n",
    "<b>Exercise 1G:</b>\n",
    "Add the names of two more friends to your list of friends. Use either `.append()` to add the names one by one. Or extend your `friends` list with another list using `.extend()`."
   ]
  },
  {
   "cell_type": "code",
   "execution_count": null,
   "metadata": {},
   "outputs": [],
   "source": [
    "# YOUR CODE HERE"
   ]
  },
  {
   "cell_type": "markdown",
   "metadata": {
    "deletable": false,
    "editable": false,
    "nbgrader": {
     "cell_type": "markdown",
     "checksum": "4cef3a769e015286359f73dcdc29173f",
     "grade": false,
     "grade_id": "cell-ea471bc0adc653de",
     "locked": true,
     "schema_version": 3,
     "solution": false,
     "task": false
    }
   },
   "source": [
    "---\n",
    "<b>Exercise 1H:</b>\n",
    "Check how many names are in your list using the built-in `len()` function. Print the length of the list. If the number is not what you expect, revise the code in the cells above and re-run them in order."
   ]
  },
  {
   "cell_type": "code",
   "execution_count": null,
   "metadata": {},
   "outputs": [],
   "source": [
    "# YOUR CODE HERE"
   ]
  },
  {
   "cell_type": "markdown",
   "metadata": {},
   "source": [
    "---\n",
    "## Exercise 2: Mean Lists\n",
    "\n",
    "Python contains many built-in functions which are always available without any imports. Two of the most useful for working with collections are `len()` and `sum()`. However, there may be times where you need to construct your own functions. We will explore custom functions in this exercise."
   ]
  },
  {
   "cell_type": "markdown",
   "metadata": {},
   "source": [
    "---\n",
    "<b>Exercise 2a:</b> Create a list called `my_numbers` that contains the following numbers: 5, 20, 8, 12, 9 and 17."
   ]
  },
  {
   "cell_type": "code",
   "execution_count": null,
   "metadata": {},
   "outputs": [],
   "source": [
    "# YOUR CODE HERE"
   ]
  },
  {
   "cell_type": "markdown",
   "metadata": {},
   "source": [
    "**Exercise 2b**: Print the length of the list `my_numbers` using the `len()` function."
   ]
  },
  {
   "cell_type": "code",
   "execution_count": null,
   "metadata": {},
   "outputs": [],
   "source": [
    "# YOUR CODE HERE"
   ]
  },
  {
   "cell_type": "markdown",
   "metadata": {},
   "source": [
    "**Exercise 2c**: Compute and print the sum of all of the numbers in the list `my_numbers` using the `sum()` function."
   ]
  },
  {
   "cell_type": "code",
   "execution_count": null,
   "metadata": {},
   "outputs": [],
   "source": [
    "# YOUR CODE HERE"
   ]
  },
  {
   "cell_type": "markdown",
   "metadata": {},
   "source": [
    "**Exercise 2d**: Compute and print the arithmetic mean of all of the numbers in the list `numbers` by combining the `len()` and the `sum()` functions."
   ]
  },
  {
   "cell_type": "code",
   "execution_count": null,
   "metadata": {},
   "outputs": [],
   "source": [
    "# YOUR CODE HERE"
   ]
  },
  {
   "cell_type": "markdown",
   "metadata": {},
   "source": [
    "<b>Exercise 2e:</b> To make your code easier to use and maintain, you can create your own functions. A function is a reusable block of code that performs a specific task. You define it once, and then you can call it (use it) as many times as you need.\n",
    "\n",
    "To create your own function, you can start with the following template:\n",
    "\n",
    "\n",
    "```\n",
    "def my_function(parameter1, parameter2):\n",
    "    \"\"\"\n",
    "    Optional docstring that explains\n",
    "    what the code does.\n",
    "    \"\"\"\n",
    "\n",
    "    #Do something with your parameters, e.g. compute the exponent:\n",
    "    result = parameter1 ** parameter2\n",
    "\n",
    "    #Return the result:\n",
    "    return result\n",
    "\n",
    "```\n",
    "\n",
    "Note the indentation. This marks what belongs inside the function.\n",
    "\n",
    "\n",
    "You can now call the function as follows:\n",
    "\n",
    "```\n",
    "result=my_function(2,5)\n",
    "print(result)\n",
    "```\n",
    "\n",
    "\n",
    "**Task:** \n",
    "\n",
    "1) Define your own function called `mean` that:\n",
    "    - Takes one parameter (a list of numbers).\n",
    "    - Calculates the arithmetic mean (average) of those numbers.\n",
    "    - Returns the result.\n",
    "2) Call your `mean` function using your list of numbers named `my_numbers`.\n",
    "    - Store the result in a variable (e.g. `average`)\n",
    "    - Print the result to check if your function works.\n"
   ]
  },
  {
   "cell_type": "code",
   "execution_count": 11,
   "metadata": {},
   "outputs": [],
   "source": [
    "# YOUR CODE HERE"
   ]
  },
  {
   "cell_type": "markdown",
   "metadata": {},
   "source": [
    "<b>Exercise 2f:</b> See what happens if you call the function on an empty list. You can create an empty list as follows:\n",
    "\n",
    "```\n",
    "empty_list= []\n",
    "```"
   ]
  },
  {
   "cell_type": "code",
   "execution_count": null,
   "metadata": {},
   "outputs": [],
   "source": [
    "# YOUR CODE HERE"
   ]
  },
  {
   "cell_type": "markdown",
   "metadata": {},
   "source": [
    "<b>Exercise 2g:</b> As you noticed, the function has an issue: if it receives an empty list, it will cause an error.\n",
    "\n",
    "Create a modified version of your function that checks whether the list is empty before performing any operations. If the list is empty, the function should print an error message (e.g. `'The list is empty'`).\n",
    "\n",
    "Recall the structure for conditional statements in Python:\n",
    "\n",
    "```\n",
    "if condition1:\n",
    "    # Code to run if condition1 is True\n",
    "    ...\n",
    "elif condition2:\n",
    "    # Code to run if condition2 is True\n",
    "    ...\n",
    "else:\n",
    "    # Code to run if none of the above conditions are True\n",
    "    ...\n",
    "```"
   ]
  },
  {
   "cell_type": "code",
   "execution_count": null,
   "metadata": {},
   "outputs": [],
   "source": [
    "# YOUR CODE HERE"
   ]
  },
  {
   "cell_type": "markdown",
   "metadata": {
    "deletable": false,
    "editable": false,
    "nbgrader": {
     "cell_type": "markdown",
     "checksum": "4f28e4e760e53e1521d0320a054717dd",
     "grade": false,
     "grade_id": "cell-015febca4f04e601",
     "locked": true,
     "schema_version": 3,
     "solution": false,
     "task": false
    }
   },
   "source": [
    "---\n",
    "## Exercise 3: Conditionals and Functions\n",
    "<b>Exercise 3A:</b> Create a function called <i><b>is_even</i></b> if a number is even. Return `True` if even, `False` if odd. Remember that you can use the modulus operator (`%`) to check if a number is even or odd."
   ]
  },
  {
   "cell_type": "code",
   "execution_count": null,
   "metadata": {
    "deletable": false,
    "nbgrader": {
     "cell_type": "code",
     "checksum": "2e172dbdea96500717c1a85b09671e1d",
     "grade": false,
     "grade_id": "cell-7c37a40fc60f01f4",
     "locked": false,
     "schema_version": 3,
     "solution": true,
     "task": false
    }
   },
   "outputs": [],
   "source": [
    "# YOUR CODE HERE"
   ]
  },
  {
   "cell_type": "code",
   "execution_count": null,
   "metadata": {
    "deletable": false,
    "editable": false,
    "nbgrader": {
     "cell_type": "code",
     "checksum": "c17f89631e09ef551ecafa1f0324961a",
     "grade": true,
     "grade_id": "cell-b1cbb85cfa0a3fe7",
     "locked": true,
     "points": 1,
     "schema_version": 3,
     "solution": false,
     "task": false
    }
   },
   "outputs": [],
   "source": [
    "#Do not make changes to this cell!\n",
    "assert is_even(2)==True\n",
    "assert is_even(11)==False"
   ]
  },
  {
   "cell_type": "markdown",
   "metadata": {
    "deletable": false,
    "editable": false,
    "nbgrader": {
     "cell_type": "markdown",
     "checksum": "acca60ec7f0e1a4c9f6fe9de3849f515",
     "grade": false,
     "grade_id": "cell-47c9a73d8c44075a",
     "locked": true,
     "schema_version": 3,
     "solution": false,
     "task": false
    }
   },
   "source": [
    "---\n",
    "<b>Exercise 3B:</b> In mathematics a <b>factorial</b> is the product of all positive integers less than or equal to a given positive integer.</br>\n",
    "</br>\n",
    "**Notation:** The factorial of an integer *n* is written as `n!`</br>\n",
    "</br>\n",
    "Examples:</br>\n",
    "    1! = 1</br>\n",
    "    2! = 1 * 2 = 2</br>\n",
    "    3! = 1 * 2 * 3 = 6</br>\n",
    "    4! = 1 * 2 * 3 * 4 = 24</br>\n",
    "</br>\n",
    "</br>\n",
    "**Task:** Create a function named `fact` that computes and returns the factorial for any positive integer.\n",
    "\n",
    "**Hint:** Iterate over the numbers from 1 to n, storing intermediate results to calculate the final product."
   ]
  },
  {
   "cell_type": "code",
   "execution_count": 9,
   "metadata": {
    "deletable": false,
    "nbgrader": {
     "cell_type": "code",
     "checksum": "847f16bdfc2a34c1aa8908365b76316b",
     "grade": false,
     "grade_id": "cell-5026eeafc9ff6fee",
     "locked": false,
     "schema_version": 3,
     "solution": true,
     "task": false
    }
   },
   "outputs": [],
   "source": [
    "# YOUR CODE HERE"
   ]
  },
  {
   "cell_type": "code",
   "execution_count": null,
   "metadata": {
    "deletable": false,
    "editable": false,
    "nbgrader": {
     "cell_type": "code",
     "checksum": "db8f7d5797f04bf716201bdeb0d01c64",
     "grade": true,
     "grade_id": "cell-2dec7c80a13db806",
     "locked": true,
     "points": 1,
     "schema_version": 3,
     "solution": false,
     "task": false
    }
   },
   "outputs": [],
   "source": [
    "#Do not make changes to this cell!\n",
    "assert fact(1)==1\n",
    "assert fact(2)==2"
   ]
  },
  {
   "cell_type": "markdown",
   "metadata": {
    "deletable": false,
    "editable": false,
    "nbgrader": {
     "cell_type": "markdown",
     "checksum": "bc79366e69c56e54902cf173df3d6613",
     "grade": false,
     "grade_id": "cell-59beb34458648265",
     "locked": true,
     "schema_version": 3,
     "solution": false,
     "task": false
    }
   },
   "source": [
    "---\n",
    "<b>Exercise 3C:</b> Modify your factorial function to return an error message if the user does not enter a positive integer. The error message should state: 'Please enter a positive integer.'"
   ]
  },
  {
   "cell_type": "code",
   "execution_count": null,
   "metadata": {
    "deletable": false,
    "nbgrader": {
     "cell_type": "code",
     "checksum": "6e302060b81014307791c6f326e4bad0",
     "grade": false,
     "grade_id": "cell-925a0fc10176d3a8",
     "locked": false,
     "schema_version": 3,
     "solution": true,
     "task": false
    }
   },
   "outputs": [],
   "source": [
    "# YOUR CODE HERE"
   ]
  },
  {
   "cell_type": "code",
   "execution_count": null,
   "metadata": {
    "deletable": false,
    "editable": false,
    "nbgrader": {
     "cell_type": "code",
     "checksum": "97deb9ccb2dac7d78cd6742cd99d083a",
     "grade": true,
     "grade_id": "cell-274c3cf57d2f6183",
     "locked": true,
     "points": 1,
     "schema_version": 3,
     "solution": false,
     "task": false
    }
   },
   "outputs": [],
   "source": [
    "#Do not make changes to this cell!"
   ]
  },
  {
   "cell_type": "markdown",
   "metadata": {
    "deletable": false,
    "editable": false,
    "nbgrader": {
     "cell_type": "markdown",
     "checksum": "6db18b60b1b289e88581e5ea9695dd37",
     "grade": false,
     "grade_id": "cell-43b7d8a7745978df",
     "locked": true,
     "schema_version": 3,
     "solution": false,
     "task": false
    }
   },
   "source": [
    "---\n",
    "<b>Exercise 3D:</b> Create a function named <i>pyramid</i> that prints a 'half pyramid' for a given number of layers:</br>\n",
    "\n",
    "For example:</br>\n",
    "`pyramid(5)` should generate the following 'half pyramid':"
   ]
  },
  {
   "cell_type": "markdown",
   "metadata": {},
   "source": [
    "```\n",
    "    #\n",
    "   ##\n",
    "  ###\n",
    " ####\n",
    "#####\n",
    "```"
   ]
  },
  {
   "cell_type": "markdown",
   "metadata": {},
   "source": [
    "**Hint:** Use a loop to print each row. For row `i` (starting from `1`), print a certain number of spaces followed by a certain number of `#` symbols so that the `#`s are right-aligned. You can use string multiplication to generate both the spaces and the `#`s."
   ]
  },
  {
   "cell_type": "code",
   "execution_count": null,
   "metadata": {
    "deletable": false,
    "nbgrader": {
     "cell_type": "code",
     "checksum": "f64b4cf4962bb7f47cefe77e96446fa2",
     "grade": false,
     "grade_id": "cell-60e59e943af2ae2f",
     "locked": false,
     "schema_version": 3,
     "solution": true,
     "task": false
    }
   },
   "outputs": [],
   "source": [
    "# YOUR CODE HERE\n",
    "pyramid(8)"
   ]
  },
  {
   "cell_type": "markdown",
   "metadata": {
    "deletable": false,
    "editable": false,
    "nbgrader": {
     "cell_type": "markdown",
     "checksum": "9d42f03de3865ffaca7957f0f5ccae66",
     "grade": false,
     "grade_id": "cell-125fe57f3051fa87",
     "locked": true,
     "schema_version": 3,
     "solution": false,
     "task": false
    }
   },
   "source": [
    "---\n",
    "## Exercise 4\n",
    "\n",
    "Write a function that abbreviates someone's first named to a single letter followed by a dot. It should then returns this letter + the person's last name. The function should be called <i>abbreviate</i>.\n",
    "\n",
    "For example:</br>\n",
    "Adam Smith --> A. Smith</br>\n",
    "Milton Friedman --> M. Friedman</br>\n",
    "Tjalling Koopmans --> T. Koopmans</br>\n",
    "Christine Lagarde --> C. Lagarde</br>\n",
    "</br>\n",
    "Hints:<br>\n",
    "- You can split a string a into a list of substrings using the `.split()` method.<br>\n",
    "- You can use a slice `[ ]` to select an element from a list.\n",
    "- You can convert a string to title case using the `.title()` method."
   ]
  },
  {
   "cell_type": "code",
   "execution_count": null,
   "metadata": {
    "deletable": false,
    "nbgrader": {
     "cell_type": "code",
     "checksum": "f7d710a9f785c065f9d3cc926c723d1c",
     "grade": false,
     "grade_id": "cell-fe6400b434ccd5de",
     "locked": false,
     "schema_version": 3,
     "solution": true,
     "task": false
    }
   },
   "outputs": [],
   "source": [
    "# YOUR CODE HERE"
   ]
  },
  {
   "cell_type": "code",
   "execution_count": null,
   "metadata": {
    "deletable": false,
    "editable": false,
    "nbgrader": {
     "cell_type": "code",
     "checksum": "617ced1af87769080fb92974b509b193",
     "grade": true,
     "grade_id": "cell-db55801f0b5063ae",
     "locked": true,
     "points": 0,
     "schema_version": 3,
     "solution": false,
     "task": false
    }
   },
   "outputs": [],
   "source": [
    "#Do not make changes to this cell!\n",
    "assert abbreviate(\"Adam Smith\")==\"A. Smith\""
   ]
  },
  {
   "cell_type": "markdown",
   "metadata": {
    "deletable": false,
    "editable": false,
    "nbgrader": {
     "cell_type": "markdown",
     "checksum": "1c4da6e72ec1dc51d80c59dbcba12b37",
     "grade": false,
     "grade_id": "cell-060cef2f45bce8f8",
     "locked": true,
     "schema_version": 3,
     "solution": false,
     "task": false
    }
   },
   "source": [
    "---\n",
    "## Exercise 5: Palindromes\n",
    "\n",
    "<b>Exercise 5A:</b> Create a function called `inv_string` that takes a string and displays it reversed.\n",
    "\n",
    "For example, `inv_string(\"Python\")` should return \"nohtyP\"\n",
    "\n",
    "Hint: You can reverse a string using a slice with a negative step `[::-1]`."
   ]
  },
  {
   "cell_type": "code",
   "execution_count": null,
   "metadata": {
    "deletable": false,
    "nbgrader": {
     "cell_type": "code",
     "checksum": "456006a1acd347d17825dfc45126f758",
     "grade": false,
     "grade_id": "cell-2d10c118fe042823",
     "locked": false,
     "schema_version": 3,
     "solution": true,
     "task": false
    }
   },
   "outputs": [],
   "source": [
    "# YOUR CODE HERE"
   ]
  },
  {
   "cell_type": "code",
   "execution_count": null,
   "metadata": {
    "deletable": false,
    "editable": false,
    "nbgrader": {
     "cell_type": "code",
     "checksum": "7a82c73013f93f886cac5fa9213df8a1",
     "grade": true,
     "grade_id": "cell-969e1310a7aa8220",
     "locked": true,
     "points": 1,
     "schema_version": 3,
     "solution": false,
     "task": false
    }
   },
   "outputs": [],
   "source": [
    "#Do not make changes to this cell!"
   ]
  },
  {
   "cell_type": "markdown",
   "metadata": {
    "deletable": false,
    "editable": false,
    "nbgrader": {
     "cell_type": "markdown",
     "checksum": "7d30ec9024962f1e37adce5bd2fbbda6",
     "grade": false,
     "grade_id": "cell-cb3669d974d21fc4",
     "locked": true,
     "schema_version": 3,
     "solution": false,
     "task": false
    }
   },
   "source": [
    "---\n",
    "<b>Exercise 5B:</b> A palindrome is a word, number, phrase, or other sequence of symbols that reads the same backwards as forwards.\n",
    "Write a function named `is_palindrome` that checks if a word is a palindrome.\n",
    "The following words are examples of palindromes: rotator, deified, racecar and reviver."
   ]
  },
  {
   "cell_type": "code",
   "execution_count": null,
   "metadata": {
    "deletable": false,
    "nbgrader": {
     "cell_type": "code",
     "checksum": "b1c4e852791ca9112916b98849db989e",
     "grade": false,
     "grade_id": "cell-b70a5dc9d4d327f2",
     "locked": false,
     "schema_version": 3,
     "solution": true,
     "task": false
    }
   },
   "outputs": [],
   "source": [
    "def is_palindrome(string):\n",
    "    # YOUR CODE HERE"
   ]
  },
  {
   "cell_type": "code",
   "execution_count": null,
   "metadata": {
    "deletable": false,
    "editable": false,
    "nbgrader": {
     "cell_type": "code",
     "checksum": "2d7d6d3b4fbbd2cd149b2b8305957de2",
     "grade": true,
     "grade_id": "cell-7c2e862d3f7d55c2",
     "locked": true,
     "points": 1,
     "schema_version": 3,
     "solution": false,
     "task": false
    }
   },
   "outputs": [],
   "source": [
    "#Do not make changes to this cell!\n",
    "assert is_palindrome(\"rotor\")==True,\"Incorrect\"\n",
    "assert is_palindrome(\"rotors\")==False,\"Incorrect\"\n",
    "assert is_palindrome(\"1234321\")==True,\"Incorrect\"\n",
    "assert is_palindrome(\"1234567\")==False,\"Incorrect\""
   ]
  },
  {
   "cell_type": "markdown",
   "metadata": {
    "deletable": false,
    "editable": false,
    "nbgrader": {
     "cell_type": "markdown",
     "checksum": "26bf6e3f94dadaca515cae960f69baa5",
     "grade": false,
     "grade_id": "cell-7877b82412cb5455",
     "locked": true,
     "schema_version": 3,
     "solution": false,
     "task": false
    }
   },
   "source": [
    "---\n",
    "<b>Exercise 5C:</b> Modify your `'is_palindrome'` function below to make sure it also accepts sentences. The function should correctly classify the following sentences as palindromes:</br>\n",
    "- \"A man, a plan, a canal – Panama\"</br>\n",
    "- \"Doc, note: I dissent. A fast never prevents a fatness. I diet on cod\""
   ]
  },
  {
   "cell_type": "code",
   "execution_count": null,
   "metadata": {
    "deletable": false,
    "nbgrader": {
     "cell_type": "code",
     "checksum": "2108b8145818f74d26072485b9168e38",
     "grade": false,
     "grade_id": "cell-1ea0e8e6317cc120",
     "locked": false,
     "schema_version": 3,
     "solution": true,
     "task": false
    }
   },
   "outputs": [],
   "source": [
    "def is_palindrome(string):\n",
    "    # YOUR CODE HERE"
   ]
  },
  {
   "cell_type": "code",
   "execution_count": null,
   "metadata": {
    "deletable": false,
    "editable": false,
    "nbgrader": {
     "cell_type": "code",
     "checksum": "775adc9d887e7cf35fe7e6ffdd50b986",
     "grade": true,
     "grade_id": "cell-e22b076e7c8ae8c3",
     "locked": true,
     "points": 1,
     "schema_version": 3,
     "solution": false,
     "task": false
    }
   },
   "outputs": [],
   "source": [
    "#Do not make changes to this cell!\n",
    "assert is_palindrome(\"A man, a plan, a canal – Panama\")==True,\"Incorrect\"\n",
    "assert is_palindrome(\"Doc, note: I dissent. A fast never prevents a fatness. I diet on cod\")==True,\"Incorrect\""
   ]
  },
  {
   "cell_type": "markdown",
   "metadata": {
    "deletable": false,
    "editable": false,
    "nbgrader": {
     "cell_type": "markdown",
     "checksum": "ed78095ac3b8ae32817f80a448182578",
     "grade": false,
     "grade_id": "cell-7500e4e999327e48",
     "locked": true,
     "schema_version": 3,
     "solution": false,
     "task": false
    }
   },
   "source": [
    "---\n",
    "## Exercise 6\n",
    "\n",
    "You have received a list of participants’ names for a workshop. As is often the case with user-entered data, the names may be inconsistently formatted. Your task is to write a function that properly formats the names.</br>\n",
    "</br>\n",
    "Examples:</br>\n",
    "Femke Van Houten should become Femke van Houten</br>\n",
    "ANNA Van Der Meer should become Anna van der Meer</br>\n",
    "Franz h. BECKER should become Franz H. Becker</br>\n",
    "Emily taylor johnson should become Emily Taylor Johnson</br>\n",
    "\n",
    "The following prepositions should be printed in lower case letters only:\n",
    "van, de, der, den and von.</br>\n",
    "</br>\n",
    "The function should be named `format_name`.\n",
    "\n",
    "Hints:\n",
    "- Start by creating an empty list named `styled` and a list named `prepositions` containing the prepositions above.\n",
    "- Iterate over each word in the name: if it is in `prepositions`, add it to styled in lowercase; otherwise, add it in title case.\n",
    "- You can combine the words in `styled` into a single string by creating a variable, for example: `formatted_name = ' '.join(styled)`\n",
    "\n",
    "\n"
   ]
  },
  {
   "cell_type": "code",
   "execution_count": null,
   "metadata": {
    "deletable": false,
    "nbgrader": {
     "cell_type": "code",
     "checksum": "3c25f7e5b43e2bda11d762a995f0b638",
     "grade": false,
     "grade_id": "format_names",
     "locked": false,
     "schema_version": 3,
     "solution": true,
     "task": false
    }
   },
   "outputs": [],
   "source": [
    "def format_name(full_name):\n",
    "    # YOUR CODE HERE"
   ]
  },
  {
   "cell_type": "code",
   "execution_count": null,
   "metadata": {
    "deletable": false,
    "editable": false,
    "nbgrader": {
     "cell_type": "code",
     "checksum": "0dde00c079e8d5f56c709e504494dfad",
     "grade": true,
     "grade_id": "format_names_test",
     "locked": true,
     "points": 1,
     "schema_version": 3,
     "solution": false,
     "task": false
    }
   },
   "outputs": [],
   "source": [
    "#Do not make changes to this cell!\n",
    "assert format_name('emily taylor Johnson') == 'Emily Taylor Johnson'\n",
    "assert format_name('MICHAEL DAVIS') == 'Michael Davis'\n",
    "assert format_name('Pieter De Vries') == 'Pieter de Vries'\n",
    "assert format_name('lieke paula verbeek') == 'Lieke Paula Verbeek'\n",
    "assert format_name('Lotte Van Den Berg') == 'Lotte van den Berg'"
   ]
  },
  {
   "cell_type": "markdown",
   "metadata": {},
   "source": [
    "---\n",
    "&copy; Jeroen van Raak, University of Amsterdam, 2025"
   ]
  }
 ],
 "metadata": {
  "kernelspec": {
   "display_name": ".data_analytics",
   "language": "python",
   "name": "python3"
  },
  "language_info": {
   "codemirror_mode": {
    "name": "ipython",
    "version": 3
   },
   "file_extension": ".py",
   "mimetype": "text/x-python",
   "name": "python",
   "nbconvert_exporter": "python",
   "pygments_lexer": "ipython3",
   "version": "3.12.2"
  }
 },
 "nbformat": 4,
 "nbformat_minor": 4
}
